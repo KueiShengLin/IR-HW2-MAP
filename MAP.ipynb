{
 "cells": [
  {
   "cell_type": "code",
   "execution_count": 75,
   "metadata": {},
   "outputs": [],
   "source": [
    "\n",
    "import re"
   ]
  },
  {
   "cell_type": "code",
   "execution_count": 76,
   "metadata": {},
   "outputs": [],
   "source": [
    "def readDoc():\n",
    "\n",
    "    submission = []    \n",
    "    solution = []\n",
    "\n",
    "    with open('submission.txt') as submission_file:\n",
    "        for line in submission_file:\n",
    "            if(line != 'Query,RetrievedDocuments\\n'):\n",
    "                query = re.split(',| ',line)\n",
    "                query.remove('\\n')\n",
    "                submission.append(query)\n",
    "                        \n",
    "    with open('solution.txt') as solution_file:\n",
    "         for line in solution_file:\n",
    "            if(line != 'Query,RetrievedDocuments\\n'):\n",
    "                query = re.split(',| ',line)\n",
    "                query.remove('\\n')\n",
    "                solution.append(query)\n",
    "            \n",
    "    return(submission,solution)"
   ]
  },
  {
   "cell_type": "code",
   "execution_count": 80,
   "metadata": {},
   "outputs": [],
   "source": [
    "def MAP(submission,solution):\n",
    "    AP =[]\n",
    "    for query in range(len(solution)):\n",
    "        relevant_Num = len(solution[query])-1\n",
    "        precission = []\n",
    "        num = 0\n",
    "        have = 0\n",
    "        for i in submission[query]:\n",
    "            if (i != solution[query][0]):\n",
    "                num += 1\n",
    "                for j in solution[query]:\n",
    "                    if(i == j):\n",
    "                        have += 1\n",
    "                        precission.append((have/num))\n",
    "            if(have == relevant_Num):\n",
    "                break\n",
    "        AP.append(sum(precission)/relevant_Num)\n",
    "    MAP = sum(AP) / len(solution)\n",
    "    print(MAP)"
   ]
  },
  {
   "cell_type": "code",
   "execution_count": 81,
   "metadata": {},
   "outputs": [
    {
     "name": "stdout",
     "output_type": "stream",
     "text": [
      "0.11724788124480491\n"
     ]
    }
   ],
   "source": [
    "(submission,solution) = readDoc()\n",
    "MAP(submission,solution)"
   ]
  },
  {
   "cell_type": "code",
   "execution_count": null,
   "metadata": {},
   "outputs": [],
   "source": []
  },
  {
   "cell_type": "code",
   "execution_count": null,
   "metadata": {},
   "outputs": [],
   "source": []
  }
 ],
 "metadata": {
  "kernelspec": {
   "display_name": "Python 3",
   "language": "python",
   "name": "python3"
  },
  "language_info": {
   "codemirror_mode": {
    "name": "ipython",
    "version": 3
   },
   "file_extension": ".py",
   "mimetype": "text/x-python",
   "name": "python",
   "nbconvert_exporter": "python",
   "pygments_lexer": "ipython3",
   "version": "3.5.3"
  }
 },
 "nbformat": 4,
 "nbformat_minor": 2
}
